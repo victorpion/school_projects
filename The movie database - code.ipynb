{
 "cells": [
  {
   "cell_type": "code",
   "execution_count": 142,
   "metadata": {},
   "outputs": [],
   "source": [
    "import pandas as pd"
   ]
  },
  {
   "cell_type": "code",
   "execution_count": 143,
   "metadata": {},
   "outputs": [],
   "source": [
    "## Question 1"
   ]
  },
  {
   "cell_type": "code",
   "execution_count": 144,
   "metadata": {},
   "outputs": [],
   "source": [
    "movies = pd.read_csv(\"tmdb_5000_movies.csv\")\n",
    "credits = pd.read_csv(\"tmdb_5000_credits.csv\")"
   ]
  },
  {
   "cell_type": "code",
   "execution_count": 145,
   "metadata": {},
   "outputs": [],
   "source": [
    "## Question 2"
   ]
  },
  {
   "cell_type": "code",
   "execution_count": 146,
   "metadata": {},
   "outputs": [
    {
     "data": {
      "text/plain": [
       "395097847444"
      ]
     },
     "execution_count": 146,
     "metadata": {},
     "output_type": "execute_result"
    }
   ],
   "source": [
    "movies[\"revenue\"].sum()"
   ]
  },
  {
   "cell_type": "code",
   "execution_count": 147,
   "metadata": {},
   "outputs": [],
   "source": [
    "## Le revenu total de l'industrie du cinéma sur ces 5000 films est de 395097847444$"
   ]
  },
  {
   "cell_type": "code",
   "execution_count": 148,
   "metadata": {},
   "outputs": [],
   "source": [
    "## Question 3.1"
   ]
  },
  {
   "cell_type": "code",
   "execution_count": 149,
   "metadata": {},
   "outputs": [
    {
     "data": {
      "text/plain": [
       "0    2009.0\n",
       "1    2007.0\n",
       "2    2015.0\n",
       "3    2012.0\n",
       "4    2012.0\n",
       "Name: release_year, dtype: float64"
      ]
     },
     "execution_count": 149,
     "metadata": {},
     "output_type": "execute_result"
    }
   ],
   "source": [
    "movies[\"release_date\"] = pd.to_datetime(movies[\"release_date\"])\n",
    "movies[\"release_date\"].dropna()\n",
    "movies[\"release_year\"] = movies[\"release_date\"].apply(lambda x: x.year)\n",
    "movies[\"release_year\"].head()"
   ]
  },
  {
   "cell_type": "code",
   "execution_count": 150,
   "metadata": {},
   "outputs": [],
   "source": [
    "## Question 3.2"
   ]
  },
  {
   "cell_type": "code",
   "execution_count": 151,
   "metadata": {},
   "outputs": [
    {
     "data": {
      "text/plain": [
       "0    2550965087\n",
       "1     661000000\n",
       "2     635674609\n",
       "3     834939099\n",
       "4      24139100\n",
       "Name: profit, dtype: int64"
      ]
     },
     "execution_count": 151,
     "metadata": {},
     "output_type": "execute_result"
    }
   ],
   "source": [
    "movies[\"profit\"] = movies[\"revenue\"] - movies[\"budget\"] \n",
    "movies[\"profit\"].head()"
   ]
  },
  {
   "cell_type": "code",
   "execution_count": 152,
   "metadata": {},
   "outputs": [],
   "source": [
    "## Question 3.3"
   ]
  },
  {
   "cell_type": "code",
   "execution_count": 153,
   "metadata": {},
   "outputs": [
    {
     "name": "stdout",
     "output_type": "stream",
     "text": [
      "Using matplotlib backend: Qt5Agg\n"
     ]
    },
    {
     "data": {
      "text/plain": [
       "<matplotlib.axes._subplots.AxesSubplot at 0x1de07f79508>"
      ]
     },
     "execution_count": 153,
     "metadata": {},
     "output_type": "execute_result"
    }
   ],
   "source": [
    "%matplotlib\n",
    "movies.groupby(\"release_year\")[\"profit\"].sum().plot()"
   ]
  },
  {
   "cell_type": "code",
   "execution_count": 154,
   "metadata": {},
   "outputs": [],
   "source": [
    "## Question 4"
   ]
  },
  {
   "cell_type": "code",
   "execution_count": 155,
   "metadata": {},
   "outputs": [
    {
     "data": {
      "text/html": [
       "<div>\n",
       "<style scoped>\n",
       "    .dataframe tbody tr th:only-of-type {\n",
       "        vertical-align: middle;\n",
       "    }\n",
       "\n",
       "    .dataframe tbody tr th {\n",
       "        vertical-align: top;\n",
       "    }\n",
       "\n",
       "    .dataframe thead th {\n",
       "        text-align: right;\n",
       "    }\n",
       "</style>\n",
       "<table border=\"1\" class=\"dataframe\">\n",
       "  <thead>\n",
       "    <tr style=\"text-align: right;\">\n",
       "      <th></th>\n",
       "      <th>budget</th>\n",
       "      <th>genres</th>\n",
       "      <th>homepage</th>\n",
       "      <th>id</th>\n",
       "      <th>keywords</th>\n",
       "      <th>original_language</th>\n",
       "      <th>original_title</th>\n",
       "      <th>overview</th>\n",
       "      <th>popularity</th>\n",
       "      <th>production_companies</th>\n",
       "      <th>...</th>\n",
       "      <th>revenue</th>\n",
       "      <th>runtime</th>\n",
       "      <th>spoken_languages</th>\n",
       "      <th>status</th>\n",
       "      <th>tagline</th>\n",
       "      <th>title</th>\n",
       "      <th>vote_average</th>\n",
       "      <th>vote_count</th>\n",
       "      <th>release_year</th>\n",
       "      <th>profit</th>\n",
       "    </tr>\n",
       "  </thead>\n",
       "  <tbody>\n",
       "    <tr>\n",
       "      <th>0</th>\n",
       "      <td>237000000</td>\n",
       "      <td>[{\"id\": 28, \"name\": \"Action\"}, {\"id\": 12, \"nam...</td>\n",
       "      <td>http://www.avatarmovie.com/</td>\n",
       "      <td>19995</td>\n",
       "      <td>[{\"id\": 1463, \"name\": \"culture clash\"}, {\"id\":...</td>\n",
       "      <td>en</td>\n",
       "      <td>Avatar</td>\n",
       "      <td>In the 22nd century, a paraplegic Marine is di...</td>\n",
       "      <td>150.437577</td>\n",
       "      <td>[{\"name\": \"Ingenious Film Partners\", \"id\": 289...</td>\n",
       "      <td>...</td>\n",
       "      <td>2787965087</td>\n",
       "      <td>162.0</td>\n",
       "      <td>[{\"iso_639_1\": \"en\", \"name\": \"English\"}, {\"iso...</td>\n",
       "      <td>Released</td>\n",
       "      <td>Enter the World of Pandora.</td>\n",
       "      <td>Avatar</td>\n",
       "      <td>7.2</td>\n",
       "      <td>11800</td>\n",
       "      <td>2009.0</td>\n",
       "      <td>2550965087</td>\n",
       "    </tr>\n",
       "  </tbody>\n",
       "</table>\n",
       "<p>1 rows × 22 columns</p>\n",
       "</div>"
      ],
      "text/plain": [
       "      budget                                             genres  \\\n",
       "0  237000000  [{\"id\": 28, \"name\": \"Action\"}, {\"id\": 12, \"nam...   \n",
       "\n",
       "                      homepage     id  \\\n",
       "0  http://www.avatarmovie.com/  19995   \n",
       "\n",
       "                                            keywords original_language  \\\n",
       "0  [{\"id\": 1463, \"name\": \"culture clash\"}, {\"id\":...                en   \n",
       "\n",
       "  original_title                                           overview  \\\n",
       "0         Avatar  In the 22nd century, a paraplegic Marine is di...   \n",
       "\n",
       "   popularity                               production_companies  ...  \\\n",
       "0  150.437577  [{\"name\": \"Ingenious Film Partners\", \"id\": 289...  ...   \n",
       "\n",
       "      revenue runtime                                   spoken_languages  \\\n",
       "0  2787965087   162.0  [{\"iso_639_1\": \"en\", \"name\": \"English\"}, {\"iso...   \n",
       "\n",
       "     status                      tagline   title vote_average vote_count  \\\n",
       "0  Released  Enter the World of Pandora.  Avatar          7.2      11800   \n",
       "\n",
       "   release_year      profit  \n",
       "0        2009.0  2550965087  \n",
       "\n",
       "[1 rows x 22 columns]"
      ]
     },
     "execution_count": 155,
     "metadata": {},
     "output_type": "execute_result"
    }
   ],
   "source": [
    "movies.sort_values(\"profit\", ascending=False).head(1)"
   ]
  },
  {
   "cell_type": "code",
   "execution_count": 156,
   "metadata": {},
   "outputs": [],
   "source": [
    "## Le film le plus profitable des 5000 films est Avatar."
   ]
  },
  {
   "cell_type": "code",
   "execution_count": 157,
   "metadata": {},
   "outputs": [],
   "source": [
    "## Question 5"
   ]
  },
  {
   "cell_type": "code",
   "execution_count": 158,
   "metadata": {},
   "outputs": [],
   "source": [
    "def cleaner(s):\n",
    "    s = s.str.replace(\"\\\"\", \"\")\n",
    "    s = s.str.replace(\"'\", \"\")\n",
    "    s = s.str.replace(\",\", \"\")\n",
    "    s = s.str.replace(\"(\", \"\")\n",
    "    s = s.str.replace(\")\", \"\")\n",
    "    s = s.str.replace(\"[\", \"\")\n",
    "    s = s.str.replace(\"]\", \"\")\n",
    "    s = s.str.replace(\"{\", \"\")\n",
    "    s = s.str.replace(\"}\", \"\")\n",
    "    s = s.str.upper()\n",
    "\n",
    "    return s"
   ]
  },
  {
   "cell_type": "code",
   "execution_count": 159,
   "metadata": {},
   "outputs": [],
   "source": [
    "cleaned = cleaner(movies[\"overview\"])\n",
    "cleaned = clean.dropna()"
   ]
  },
  {
   "cell_type": "code",
   "execution_count": 160,
   "metadata": {},
   "outputs": [
    {
     "data": {
      "text/plain": [
       "THE    13893\n",
       "dtype: int64"
      ]
     },
     "execution_count": 160,
     "metadata": {},
     "output_type": "execute_result"
    }
   ],
   "source": [
    "from collections import Counter\n",
    "compteur = Counter(cleaned.str.split(\" \").sum())\n",
    "pd.Series(compteur).sort_values(ascending=False).head(1)"
   ]
  },
  {
   "cell_type": "code",
   "execution_count": 161,
   "metadata": {},
   "outputs": [],
   "source": [
    "## Le mot le plus présent dans la description des films est \"The\"."
   ]
  },
  {
   "cell_type": "code",
   "execution_count": 162,
   "metadata": {},
   "outputs": [],
   "source": [
    "## Question 6"
   ]
  },
  {
   "cell_type": "code",
   "execution_count": 163,
   "metadata": {},
   "outputs": [
    {
     "data": {
      "text/plain": [
       "<matplotlib.axes._subplots.AxesSubplot at 0x1de70b49848>"
      ]
     },
     "execution_count": 163,
     "metadata": {},
     "output_type": "execute_result"
    }
   ],
   "source": [
    "movies[\"original_language\"].value_counts().plot(kind= \"pie\")"
   ]
  },
  {
   "cell_type": "code",
   "execution_count": 164,
   "metadata": {},
   "outputs": [],
   "source": [
    "## Question 7"
   ]
  },
  {
   "cell_type": "code",
   "execution_count": 167,
   "metadata": {},
   "outputs": [],
   "source": [
    "def cleaner2(s):\n",
    "    s = s.str.replace(\"\\\"\", \"\")\n",
    "    s = s.str.replace(\"'\", \"\")\n",
    "    s = s.str.replace(\",\", \"\")\n",
    "    s = s.str.replace(\"(\", \"\")\n",
    "    s = s.str.replace(\")\", \"\")\n",
    "    s = s.str.replace(\"[\", \"\")\n",
    "    s = s.str.replace(\"]\", \"\")\n",
    "    s = s.str.replace(\"{\", \"\")\n",
    "    s = s.str.replace(\"}\", \"\")\n",
    "    s = s.str.replace(\":\", \"\")\n",
    "    s = s.str.replace(\"name\", \"\")\n",
    "    s = s.str.replace(\"iso_3166_1\", \"\")\n",
    "    s = s.str.replace(\"of\",\"\")\n",
    "    s = s.str.upper()\n",
    "\n",
    "    return s"
   ]
  },
  {
   "cell_type": "code",
   "execution_count": 168,
   "metadata": {},
   "outputs": [],
   "source": [
    "cleaned2 = cleaner2(movies[\"production_countries\"])\n",
    "cleaned2 = cleaned2.dropna()\n",
    "cleaned2 = cleaned2.str.split().map(lambda sl: \" \".join(s for s in sl if len(s) <3))"
   ]
  },
  {
   "cell_type": "code",
   "execution_count": 170,
   "metadata": {
    "scrolled": false
   },
   "outputs": [
    {
     "data": {
      "text/plain": [
       "<matplotlib.axes._subplots.AxesSubplot at 0x1de0d300cc8>"
      ]
     },
     "execution_count": 170,
     "metadata": {},
     "output_type": "execute_result"
    }
   ],
   "source": [
    "compteur2 = Counter(cleaned2.str.split(\" \").sum())\n",
    "compteur2.pop(\"\")\n",
    "pd.Series(compteur2).sort_values(ascending=False).plot(kind= \"pie\")"
   ]
  },
  {
   "cell_type": "code",
   "execution_count": 171,
   "metadata": {},
   "outputs": [],
   "source": [
    "## Question 8"
   ]
  },
  {
   "cell_type": "code",
   "execution_count": 172,
   "metadata": {},
   "outputs": [
    {
     "data": {
      "text/plain": [
       "0    [{\"id\": 28, \"name\": \"Action\"}, {\"id\": 12, \"nam...\n",
       "1    [{\"id\": 12, \"name\": \"Adventure\"}, {\"id\": 14, \"...\n",
       "2    [{\"id\": 28, \"name\": \"Action\"}, {\"id\": 12, \"nam...\n",
       "3    [{\"id\": 28, \"name\": \"Action\"}, {\"id\": 80, \"nam...\n",
       "4    [{\"id\": 28, \"name\": \"Action\"}, {\"id\": 12, \"nam...\n",
       "Name: genres, dtype: object"
      ]
     },
     "execution_count": 172,
     "metadata": {},
     "output_type": "execute_result"
    }
   ],
   "source": [
    "movies[\"genres\"].head()"
   ]
  },
  {
   "cell_type": "code",
   "execution_count": 173,
   "metadata": {},
   "outputs": [],
   "source": [
    "def cleaner3(s):\n",
    "    s = s.str.replace(\"\\\"\", \"\")\n",
    "    s = s.str.replace(\"'\", \"\")\n",
    "    s = s.str.replace(\",\", \"\")\n",
    "    s = s.str.replace(\"(\", \"\")\n",
    "    s = s.str.replace(\")\", \"\")\n",
    "    s = s.str.replace(\"[\", \"\")\n",
    "    s = s.str.replace(\"]\", \"\")\n",
    "    s = s.str.replace(\"{\", \"\")\n",
    "    s = s.str.replace(\"}\", \"\")\n",
    "    s = s.str.replace(\":\", \"\")\n",
    "    s = s.str.replace(\"name\", \"\")\n",
    "    s = s.str.replace(\"id\", \"\")\n",
    "    s = s.str.replace(\"18\", \"\")\n",
    "    s = s.str.replace(\"35\", \"\")\n",
    "    s = s.str.replace(\"53\", \"\")\n",
    "    s = s.str.replace(\"28\", \"\")\n",
    "    s = s.str.replace(\"10749\", \"\")\n",
    "    s = s.str.replace(\"12\", \"\")\n",
    "    s = s.str.replace(\"80\", \"\")\n",
    "    s = s.str.replace(\"878\", \"\")\n",
    "    s = s.str.replace(\"27\", \"\")\n",
    "    s = s.str.replace(\"10751\", \"\")\n",
    "    s = s.str.replace(\"14\", \"\")\n",
    "    s = s.str.replace(\"9648\", \"\")\n",
    "    s = s.str.replace(\"16\", \"\")\n",
    "    s = s.str.replace(\"36\", \"\")\n",
    "    s = s.str.replace(\"10402\", \"\")\n",
    "    s = s.str.replace(\"10752\", \"\")\n",
    "    s = s.str.replace(\"99\", \"\")\n",
    "    s = s.str.replace(\"37\", \"\")\n",
    "    s = s.str.replace(\"10769\", \"\")\n",
    "    s = s.str.replace(\"10770\", \"\")\n",
    "    s = s.str.replace(\"Science Fiction\", \"SF\")\n",
    "    s = s.str.replace(\"TV Movie\", \"TV\")\n",
    "\n",
    "    s = s.str.upper()\n",
    "\n",
    "    return s"
   ]
  },
  {
   "cell_type": "code",
   "execution_count": 174,
   "metadata": {},
   "outputs": [],
   "source": [
    "cleaned3 = cleaner3(movies[\"genres\"])\n",
    "cleaned3 = cleaned3.dropna()"
   ]
  },
  {
   "cell_type": "code",
   "execution_count": 175,
   "metadata": {
    "scrolled": false
   },
   "outputs": [
    {
     "data": {
      "text/plain": [
       "<matplotlib.axes._subplots.AxesSubplot at 0x1de0d0cec88>"
      ]
     },
     "execution_count": 175,
     "metadata": {},
     "output_type": "execute_result"
    }
   ],
   "source": [
    "compteur3 = Counter(cleaned3.str.split(\" \").sum())\n",
    "compteur3.pop(\"\")\n",
    "pd.Series(compteur3).sort_values(ascending=False).plot(kind = \"pie\")"
   ]
  },
  {
   "cell_type": "code",
   "execution_count": 176,
   "metadata": {},
   "outputs": [],
   "source": [
    "## Question 10"
   ]
  },
  {
   "cell_type": "code",
   "execution_count": 177,
   "metadata": {},
   "outputs": [
    {
     "data": {
      "text/plain": [
       "38"
      ]
     },
     "execution_count": 177,
     "metadata": {},
     "output_type": "execute_result"
    }
   ],
   "source": [
    "credits[\"cast\"].apply(lambda x: \"Brad Pitt\" in x).sum()"
   ]
  },
  {
   "cell_type": "code",
   "execution_count": 178,
   "metadata": {},
   "outputs": [],
   "source": [
    "## Brad Pitt a joué dans 38 films sur ces 5000 films."
   ]
  },
  {
   "cell_type": "code",
   "execution_count": 179,
   "metadata": {},
   "outputs": [],
   "source": [
    "## Question 11"
   ]
  },
  {
   "cell_type": "code",
   "execution_count": 180,
   "metadata": {},
   "outputs": [
    {
     "data": {
      "text/plain": [
       "Angelina\n",
       "False    1916.0\n",
       "True     1995.0\n",
       "Name: release_year, dtype: float64"
      ]
     },
     "execution_count": 180,
     "metadata": {},
     "output_type": "execute_result"
    }
   ],
   "source": [
    "df = pd.merge(credits, movies[[\"release_year\", \"title\"]], how = \"left\")\n",
    "df[\"Angelina\"] = df[\"cast\"].apply(lambda x: \"Angelina Jolie\" in x)\n",
    "df[\"release_year\"].groupby(df[\"Angelina\"]).min().head()"
   ]
  },
  {
   "cell_type": "code",
   "execution_count": 181,
   "metadata": {},
   "outputs": [
    {
     "data": {
      "text/html": [
       "<div>\n",
       "<style scoped>\n",
       "    .dataframe tbody tr th:only-of-type {\n",
       "        vertical-align: middle;\n",
       "    }\n",
       "\n",
       "    .dataframe tbody tr th {\n",
       "        vertical-align: top;\n",
       "    }\n",
       "\n",
       "    .dataframe thead th {\n",
       "        text-align: right;\n",
       "    }\n",
       "</style>\n",
       "<table border=\"1\" class=\"dataframe\">\n",
       "  <thead>\n",
       "    <tr style=\"text-align: right;\">\n",
       "      <th></th>\n",
       "      <th>movie_id</th>\n",
       "      <th>title</th>\n",
       "      <th>cast</th>\n",
       "      <th>crew</th>\n",
       "      <th>release_year</th>\n",
       "      <th>Angelina</th>\n",
       "    </tr>\n",
       "  </thead>\n",
       "  <tbody>\n",
       "    <tr>\n",
       "      <th>248</th>\n",
       "      <td>787</td>\n",
       "      <td>Mr. &amp; Mrs. Smith</td>\n",
       "      <td>[{\"cast_id\": 19, \"character\": \"Jane Smith\", \"c...</td>\n",
       "      <td>[{\"credit_id\": \"52fe4276c3a36847f8020875\", \"de...</td>\n",
       "      <td>2005.0</td>\n",
       "      <td>True</td>\n",
       "    </tr>\n",
       "    <tr>\n",
       "      <th>151</th>\n",
       "      <td>2310</td>\n",
       "      <td>Beowulf</td>\n",
       "      <td>[{\"cast_id\": 24, \"character\": \"Beowulf / Golde...</td>\n",
       "      <td>[{\"credit_id\": \"52fe434cc3a36847f8049c1b\", \"de...</td>\n",
       "      <td>2007.0</td>\n",
       "      <td>True</td>\n",
       "    </tr>\n",
       "    <tr>\n",
       "      <th>1491</th>\n",
       "      <td>12596</td>\n",
       "      <td>Pushing Tin</td>\n",
       "      <td>[{\"cast_id\": 1, \"character\": \"Nick Falzone\", \"...</td>\n",
       "      <td>[{\"credit_id\": \"52fe45039251416c75048bc1\", \"de...</td>\n",
       "      <td>1999.0</td>\n",
       "      <td>True</td>\n",
       "    </tr>\n",
       "    <tr>\n",
       "      <th>137</th>\n",
       "      <td>49444</td>\n",
       "      <td>Kung Fu Panda 2</td>\n",
       "      <td>[{\"cast_id\": 5, \"character\": \"Po (voice)\", \"cr...</td>\n",
       "      <td>[{\"credit_id\": \"57deba7cc3a36813080070c8\", \"de...</td>\n",
       "      <td>2011.0</td>\n",
       "      <td>True</td>\n",
       "    </tr>\n",
       "    <tr>\n",
       "      <th>1282</th>\n",
       "      <td>10428</td>\n",
       "      <td>Hackers</td>\n",
       "      <td>[{\"cast_id\": 16, \"character\": \"Dade Murphy / '...</td>\n",
       "      <td>[{\"credit_id\": \"52fe436e9251416c750100bb\", \"de...</td>\n",
       "      <td>1995.0</td>\n",
       "      <td>True</td>\n",
       "    </tr>\n",
       "  </tbody>\n",
       "</table>\n",
       "</div>"
      ],
      "text/plain": [
       "      movie_id             title  \\\n",
       "248        787  Mr. & Mrs. Smith   \n",
       "151       2310           Beowulf   \n",
       "1491     12596       Pushing Tin   \n",
       "137      49444   Kung Fu Panda 2   \n",
       "1282     10428           Hackers   \n",
       "\n",
       "                                                   cast  \\\n",
       "248   [{\"cast_id\": 19, \"character\": \"Jane Smith\", \"c...   \n",
       "151   [{\"cast_id\": 24, \"character\": \"Beowulf / Golde...   \n",
       "1491  [{\"cast_id\": 1, \"character\": \"Nick Falzone\", \"...   \n",
       "137   [{\"cast_id\": 5, \"character\": \"Po (voice)\", \"cr...   \n",
       "1282  [{\"cast_id\": 16, \"character\": \"Dade Murphy / '...   \n",
       "\n",
       "                                                   crew  release_year  \\\n",
       "248   [{\"credit_id\": \"52fe4276c3a36847f8020875\", \"de...        2005.0   \n",
       "151   [{\"credit_id\": \"52fe434cc3a36847f8049c1b\", \"de...        2007.0   \n",
       "1491  [{\"credit_id\": \"52fe45039251416c75048bc1\", \"de...        1999.0   \n",
       "137   [{\"credit_id\": \"57deba7cc3a36813080070c8\", \"de...        2011.0   \n",
       "1282  [{\"credit_id\": \"52fe436e9251416c750100bb\", \"de...        1995.0   \n",
       "\n",
       "      Angelina  \n",
       "248       True  \n",
       "151       True  \n",
       "1491      True  \n",
       "137       True  \n",
       "1282      True  "
      ]
     },
     "execution_count": 181,
     "metadata": {},
     "output_type": "execute_result"
    }
   ],
   "source": [
    "df.sort_values(\"Angelina\", ascending = False).head(5)"
   ]
  },
  {
   "cell_type": "code",
   "execution_count": null,
   "metadata": {},
   "outputs": [],
   "source": [
    "## Le premier film d'Angelina Jolie sur ces 5000 films date de 1995,il s'agit de Hackers."
   ]
  }
 ],
 "metadata": {
  "kernelspec": {
   "display_name": "Python 3",
   "language": "python",
   "name": "python3"
  },
  "language_info": {
   "codemirror_mode": {
    "name": "ipython",
    "version": 3
   },
   "file_extension": ".py",
   "mimetype": "text/x-python",
   "name": "python",
   "nbconvert_exporter": "python",
   "pygments_lexer": "ipython3",
   "version": "3.7.6"
  }
 },
 "nbformat": 4,
 "nbformat_minor": 4
}
